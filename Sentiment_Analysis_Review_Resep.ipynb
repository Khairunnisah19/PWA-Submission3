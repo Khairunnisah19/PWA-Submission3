{
  "nbformat": 4,
  "nbformat_minor": 0,
  "metadata": {
    "colab": {
      "provenance": [],
      "authorship_tag": "ABX9TyOrmlDFAowdkhdAcPZXf2CU",
      "include_colab_link": true
    },
    "kernelspec": {
      "name": "python3",
      "display_name": "Python 3"
    },
    "language_info": {
      "name": "python"
    }
  },
  "cells": [
    {
      "cell_type": "markdown",
      "metadata": {
        "id": "view-in-github",
        "colab_type": "text"
      },
      "source": [
        "<a href=\"https://colab.research.google.com/github/Khairunnisah19/khairunnisah19.github.io/blob/main/Sentiment_Analysis_Review_Resep.ipynb\" target=\"_parent\"><img src=\"https://colab.research.google.com/assets/colab-badge.svg\" alt=\"Open In Colab\"/></a>"
      ]
    },
    {
      "cell_type": "markdown",
      "source": [
        "#**1. Install library yg digunakan**"
      ],
      "metadata": {
        "id": "3U5wtbmnZ7Ts"
      }
    },
    {
      "cell_type": "code",
      "source": [
        "import numpy as np # Untuk Komputasi Numerik\n",
        "import pandas as pd # Untuk Manipulasi Data\n",
        "import matplotlib.pyplot as plt # Untuk Memvisualisasikan Data"
      ],
      "metadata": {
        "id": "G56YgVmraSyN"
      },
      "execution_count": 1,
      "outputs": []
    },
    {
      "cell_type": "markdown",
      "source": [
        "#**2 . Menampilkan dataset**"
      ],
      "metadata": {
        "id": "Q6saKvXEaeo7"
      }
    },
    {
      "cell_type": "code",
      "source": [
        "df = pd.read_csv(\"sample_data/Recipe Reviews and User Feedback Dataset.csv\")\n",
        "df.head()"
      ],
      "metadata": {
        "colab": {
          "base_uri": "https://localhost:8080/",
          "height": 332
        },
        "id": "tEbe85_tZWm8",
        "outputId": "02fc378d-0a83-4f64-c23f-f2c4f648c595"
      },
      "execution_count": 2,
      "outputs": [
        {
          "output_type": "error",
          "ename": "FileNotFoundError",
          "evalue": "[Errno 2] No such file or directory: 'sample_data/Recipe Reviews and User Feedback Dataset.csv'",
          "traceback": [
            "\u001b[0;31m---------------------------------------------------------------------------\u001b[0m",
            "\u001b[0;31mFileNotFoundError\u001b[0m                         Traceback (most recent call last)",
            "\u001b[0;32m<ipython-input-2-1002f652930d>\u001b[0m in \u001b[0;36m<cell line: 1>\u001b[0;34m()\u001b[0m\n\u001b[0;32m----> 1\u001b[0;31m \u001b[0mdf\u001b[0m \u001b[0;34m=\u001b[0m \u001b[0mpd\u001b[0m\u001b[0;34m.\u001b[0m\u001b[0mread_csv\u001b[0m\u001b[0;34m(\u001b[0m\u001b[0;34m\"sample_data/Recipe Reviews and User Feedback Dataset.csv\"\u001b[0m\u001b[0;34m)\u001b[0m\u001b[0;34m\u001b[0m\u001b[0;34m\u001b[0m\u001b[0m\n\u001b[0m\u001b[1;32m      2\u001b[0m \u001b[0mdf\u001b[0m\u001b[0;34m.\u001b[0m\u001b[0mhead\u001b[0m\u001b[0;34m(\u001b[0m\u001b[0;34m)\u001b[0m\u001b[0;34m\u001b[0m\u001b[0;34m\u001b[0m\u001b[0m\n",
            "\u001b[0;32m/usr/local/lib/python3.10/dist-packages/pandas/io/parsers/readers.py\u001b[0m in \u001b[0;36mread_csv\u001b[0;34m(filepath_or_buffer, sep, delimiter, header, names, index_col, usecols, dtype, engine, converters, true_values, false_values, skipinitialspace, skiprows, skipfooter, nrows, na_values, keep_default_na, na_filter, verbose, skip_blank_lines, parse_dates, infer_datetime_format, keep_date_col, date_parser, date_format, dayfirst, cache_dates, iterator, chunksize, compression, thousands, decimal, lineterminator, quotechar, quoting, doublequote, escapechar, comment, encoding, encoding_errors, dialect, on_bad_lines, delim_whitespace, low_memory, memory_map, float_precision, storage_options, dtype_backend)\u001b[0m\n\u001b[1;32m    946\u001b[0m     \u001b[0mkwds\u001b[0m\u001b[0;34m.\u001b[0m\u001b[0mupdate\u001b[0m\u001b[0;34m(\u001b[0m\u001b[0mkwds_defaults\u001b[0m\u001b[0;34m)\u001b[0m\u001b[0;34m\u001b[0m\u001b[0;34m\u001b[0m\u001b[0m\n\u001b[1;32m    947\u001b[0m \u001b[0;34m\u001b[0m\u001b[0m\n\u001b[0;32m--> 948\u001b[0;31m     \u001b[0;32mreturn\u001b[0m \u001b[0m_read\u001b[0m\u001b[0;34m(\u001b[0m\u001b[0mfilepath_or_buffer\u001b[0m\u001b[0;34m,\u001b[0m \u001b[0mkwds\u001b[0m\u001b[0;34m)\u001b[0m\u001b[0;34m\u001b[0m\u001b[0;34m\u001b[0m\u001b[0m\n\u001b[0m\u001b[1;32m    949\u001b[0m \u001b[0;34m\u001b[0m\u001b[0m\n\u001b[1;32m    950\u001b[0m \u001b[0;34m\u001b[0m\u001b[0m\n",
            "\u001b[0;32m/usr/local/lib/python3.10/dist-packages/pandas/io/parsers/readers.py\u001b[0m in \u001b[0;36m_read\u001b[0;34m(filepath_or_buffer, kwds)\u001b[0m\n\u001b[1;32m    609\u001b[0m \u001b[0;34m\u001b[0m\u001b[0m\n\u001b[1;32m    610\u001b[0m     \u001b[0;31m# Create the parser.\u001b[0m\u001b[0;34m\u001b[0m\u001b[0;34m\u001b[0m\u001b[0m\n\u001b[0;32m--> 611\u001b[0;31m     \u001b[0mparser\u001b[0m \u001b[0;34m=\u001b[0m \u001b[0mTextFileReader\u001b[0m\u001b[0;34m(\u001b[0m\u001b[0mfilepath_or_buffer\u001b[0m\u001b[0;34m,\u001b[0m \u001b[0;34m**\u001b[0m\u001b[0mkwds\u001b[0m\u001b[0;34m)\u001b[0m\u001b[0;34m\u001b[0m\u001b[0;34m\u001b[0m\u001b[0m\n\u001b[0m\u001b[1;32m    612\u001b[0m \u001b[0;34m\u001b[0m\u001b[0m\n\u001b[1;32m    613\u001b[0m     \u001b[0;32mif\u001b[0m \u001b[0mchunksize\u001b[0m \u001b[0;32mor\u001b[0m \u001b[0miterator\u001b[0m\u001b[0;34m:\u001b[0m\u001b[0;34m\u001b[0m\u001b[0;34m\u001b[0m\u001b[0m\n",
            "\u001b[0;32m/usr/local/lib/python3.10/dist-packages/pandas/io/parsers/readers.py\u001b[0m in \u001b[0;36m__init__\u001b[0;34m(self, f, engine, **kwds)\u001b[0m\n\u001b[1;32m   1446\u001b[0m \u001b[0;34m\u001b[0m\u001b[0m\n\u001b[1;32m   1447\u001b[0m         \u001b[0mself\u001b[0m\u001b[0;34m.\u001b[0m\u001b[0mhandles\u001b[0m\u001b[0;34m:\u001b[0m \u001b[0mIOHandles\u001b[0m \u001b[0;34m|\u001b[0m \u001b[0;32mNone\u001b[0m \u001b[0;34m=\u001b[0m \u001b[0;32mNone\u001b[0m\u001b[0;34m\u001b[0m\u001b[0;34m\u001b[0m\u001b[0m\n\u001b[0;32m-> 1448\u001b[0;31m         \u001b[0mself\u001b[0m\u001b[0;34m.\u001b[0m\u001b[0m_engine\u001b[0m \u001b[0;34m=\u001b[0m \u001b[0mself\u001b[0m\u001b[0;34m.\u001b[0m\u001b[0m_make_engine\u001b[0m\u001b[0;34m(\u001b[0m\u001b[0mf\u001b[0m\u001b[0;34m,\u001b[0m \u001b[0mself\u001b[0m\u001b[0;34m.\u001b[0m\u001b[0mengine\u001b[0m\u001b[0;34m)\u001b[0m\u001b[0;34m\u001b[0m\u001b[0;34m\u001b[0m\u001b[0m\n\u001b[0m\u001b[1;32m   1449\u001b[0m \u001b[0;34m\u001b[0m\u001b[0m\n\u001b[1;32m   1450\u001b[0m     \u001b[0;32mdef\u001b[0m \u001b[0mclose\u001b[0m\u001b[0;34m(\u001b[0m\u001b[0mself\u001b[0m\u001b[0;34m)\u001b[0m \u001b[0;34m->\u001b[0m \u001b[0;32mNone\u001b[0m\u001b[0;34m:\u001b[0m\u001b[0;34m\u001b[0m\u001b[0;34m\u001b[0m\u001b[0m\n",
            "\u001b[0;32m/usr/local/lib/python3.10/dist-packages/pandas/io/parsers/readers.py\u001b[0m in \u001b[0;36m_make_engine\u001b[0;34m(self, f, engine)\u001b[0m\n\u001b[1;32m   1703\u001b[0m                 \u001b[0;32mif\u001b[0m \u001b[0;34m\"b\"\u001b[0m \u001b[0;32mnot\u001b[0m \u001b[0;32min\u001b[0m \u001b[0mmode\u001b[0m\u001b[0;34m:\u001b[0m\u001b[0;34m\u001b[0m\u001b[0;34m\u001b[0m\u001b[0m\n\u001b[1;32m   1704\u001b[0m                     \u001b[0mmode\u001b[0m \u001b[0;34m+=\u001b[0m \u001b[0;34m\"b\"\u001b[0m\u001b[0;34m\u001b[0m\u001b[0;34m\u001b[0m\u001b[0m\n\u001b[0;32m-> 1705\u001b[0;31m             self.handles = get_handle(\n\u001b[0m\u001b[1;32m   1706\u001b[0m                 \u001b[0mf\u001b[0m\u001b[0;34m,\u001b[0m\u001b[0;34m\u001b[0m\u001b[0;34m\u001b[0m\u001b[0m\n\u001b[1;32m   1707\u001b[0m                 \u001b[0mmode\u001b[0m\u001b[0;34m,\u001b[0m\u001b[0;34m\u001b[0m\u001b[0;34m\u001b[0m\u001b[0m\n",
            "\u001b[0;32m/usr/local/lib/python3.10/dist-packages/pandas/io/common.py\u001b[0m in \u001b[0;36mget_handle\u001b[0;34m(path_or_buf, mode, encoding, compression, memory_map, is_text, errors, storage_options)\u001b[0m\n\u001b[1;32m    861\u001b[0m         \u001b[0;32mif\u001b[0m \u001b[0mioargs\u001b[0m\u001b[0;34m.\u001b[0m\u001b[0mencoding\u001b[0m \u001b[0;32mand\u001b[0m \u001b[0;34m\"b\"\u001b[0m \u001b[0;32mnot\u001b[0m \u001b[0;32min\u001b[0m \u001b[0mioargs\u001b[0m\u001b[0;34m.\u001b[0m\u001b[0mmode\u001b[0m\u001b[0;34m:\u001b[0m\u001b[0;34m\u001b[0m\u001b[0;34m\u001b[0m\u001b[0m\n\u001b[1;32m    862\u001b[0m             \u001b[0;31m# Encoding\u001b[0m\u001b[0;34m\u001b[0m\u001b[0;34m\u001b[0m\u001b[0m\n\u001b[0;32m--> 863\u001b[0;31m             handle = open(\n\u001b[0m\u001b[1;32m    864\u001b[0m                 \u001b[0mhandle\u001b[0m\u001b[0;34m,\u001b[0m\u001b[0;34m\u001b[0m\u001b[0;34m\u001b[0m\u001b[0m\n\u001b[1;32m    865\u001b[0m                 \u001b[0mioargs\u001b[0m\u001b[0;34m.\u001b[0m\u001b[0mmode\u001b[0m\u001b[0;34m,\u001b[0m\u001b[0;34m\u001b[0m\u001b[0;34m\u001b[0m\u001b[0m\n",
            "\u001b[0;31mFileNotFoundError\u001b[0m: [Errno 2] No such file or directory: 'sample_data/Recipe Reviews and User Feedback Dataset.csv'"
          ]
        }
      ]
    },
    {
      "cell_type": "markdown",
      "source": [
        "#**3. Pre-Processing Data**"
      ],
      "metadata": {
        "id": "EtftfZb40xLF"
      }
    },
    {
      "cell_type": "code",
      "source": [
        "import textblob\n",
        "from textblob import TextBlob\n",
        "\n",
        "import re\n",
        "import nltk\n",
        "nltk.download('punkt')\n",
        "from nltk.tokenize import word_tokenize\n",
        "\n",
        "review = df[\"text\"].astype(\"string\")"
      ],
      "metadata": {
        "id": "fSjxAMdxa58e"
      },
      "execution_count": null,
      "outputs": []
    },
    {
      "cell_type": "code",
      "execution_count": null,
      "metadata": {
        "id": "Id4fyQdC4Y9E"
      },
      "outputs": [],
      "source": [
        "def pre_process(Review_Text):\n",
        "    # Case Folding: Lowercase\n",
        "    Review_Text = str(Review_Text).lower()\n",
        "\n",
        "    # Case Folding: Removing Number\n",
        "    Review_Text = re.sub(r\"\\d+\", \"\", Review_Text)\n",
        "\n",
        "    # Removing Punctuation\n",
        "    All_punct = '''!()-[]{};:'\"\\,<>./?@#$%^&*_~'''\n",
        "    for elements in Review_Text:\n",
        "      if elements in All_punct:\n",
        "        Review_Text = Review_Text.replace(elements, \"\")\n",
        "\n",
        "    #Case Folding: Removing Whitespace\n",
        "    Review_Text = Review_Text.strip()\n",
        "\n",
        "    #Separating Sentences with Split () Method\n",
        "    pisah = Review_Text.split()\n",
        "\n",
        "    #Tokenizing: Word Tokenizing Using NLTK Module\n",
        "    tokens = nltk.tokenize.word_tokenize(Review_Text)\n",
        "\n",
        "    removed = []\n",
        "    for t in tokens:\n",
        "      if t not in tokens:\n",
        "        removed.append(t)\n",
        "\n",
        "    return Review_Text\n",
        "\n",
        "df['ReviewClean'] = df['text'].apply(lambda x:pre_process(x))\n",
        "\n",
        "df.head()"
      ]
    },
    {
      "cell_type": "markdown",
      "source": [
        "#**4. Proses PeLabelan**"
      ],
      "metadata": {
        "id": "DXcpknrElJJu"
      }
    },
    {
      "cell_type": "code",
      "source": [
        "# Perform a simple sentiment analysis\n",
        "data_review = list(df['ReviewClean'].astype(str))\n",
        "polaritas = 0\n",
        "\n",
        "status = []\n",
        "total_positif = total_negatif = total_netral = total = 0\n",
        "\n",
        "for i, review in enumerate(data_review):\n",
        "    analysis = TextBlob(review)\n",
        "    polaritas += analysis.polarity\n",
        "\n",
        "    if analysis.sentiment.polarity > 0.0:\n",
        "        total_positif += 1\n",
        "        status.append('Positif')\n",
        "    elif analysis.sentiment.polarity == 0.0:\n",
        "        total_netral += 1\n",
        "        status.append('Netral')\n",
        "    else:\n",
        "        total_negatif += 1\n",
        "        status.append('Negatif')\n",
        "\n",
        "    total += 1\n",
        "\n",
        "print(f'Hasil Analisis Data:\\nPositif = {total_positif}\\nNetral = {total_netral}\\nNegatif = {total_negatif}')\n",
        "print(f'\\nTotal Data : {total}')\n",
        "df.head()"
      ],
      "metadata": {
        "id": "al6kHPoSlQ3F"
      },
      "execution_count": null,
      "outputs": []
    },
    {
      "cell_type": "markdown",
      "source": [
        "#**5. Menambahkan kolom Status Sentimen (Positif/Netral/Negatif)**"
      ],
      "metadata": {
        "id": "aSkwFCTjmN8I"
      }
    },
    {
      "cell_type": "code",
      "source": [
        "df['klasifikasi'] = status\n",
        "df.tail()"
      ],
      "metadata": {
        "id": "uZsN4N9wmYru"
      },
      "execution_count": null,
      "outputs": []
    },
    {
      "cell_type": "markdown",
      "source": [
        "#**6. Data Visualization**"
      ],
      "metadata": {
        "id": "jqMR8VxymcSF"
      }
    },
    {
      "cell_type": "code",
      "metadata": {
        "id": "IlxPe_ibT6St"
      },
      "source": [
        "def show_pie(label, data, legend_title) :\n",
        "    fig, ax = plt.subplots(figsize=(8, 10), subplot_kw=dict(aspect='equal'))\n",
        "\n",
        "    labels = [x.split()[-1] for x in label]\n",
        "\n",
        "    def func(pct, allvals):\n",
        "        absolute = int(pct/100.*np.sum(allvals))\n",
        "        return \"{:.1f}% ({:d})\".format(pct, absolute)\n",
        "\n",
        "    wedges, texts, autotexts = ax.pie(data, autopct=lambda pct: func(pct, data),\n",
        "                                      textprops=dict(color=\"w\"))\n",
        "\n",
        "    ax.legend(wedges, labels,\n",
        "              title= legend_title,\n",
        "              loc=\"center left\",\n",
        "              bbox_to_anchor=(1, 0, 0.5, 1))\n",
        "\n",
        "    plt.setp(autotexts, size=10, weight=\"bold\")\n",
        "    plt.show()\n",
        "\n",
        "label = ['Positif', 'Negatif', 'Netral']\n",
        "count_data = [total_positif+1, total_negatif+1, total_netral]\n",
        "\n",
        "show_pie(label, count_data, \"Status\")"
      ],
      "execution_count": null,
      "outputs": []
    },
    {
      "cell_type": "markdown",
      "source": [
        "**Kesimpulan :**\n",
        "\n",
        "> Terdapat lebih banyak sentimen positif untuk resep masakan, dibandingkan dengan sentimen negatif dan netral\n",
        "\n"
      ],
      "metadata": {
        "id": "C0jtMi1jgCs3"
      }
    },
    {
      "cell_type": "markdown",
      "source": [
        "# **7. Klasifikasi Data Dengan Metode Logistic Regression dan SVM**"
      ],
      "metadata": {
        "id": "gKH8I_IJghcl"
      }
    },
    {
      "cell_type": "code",
      "source": [
        "#Vectorization\n",
        "from sklearn.feature_extraction.text import CountVectorizer\n",
        "cv = CountVectorizer()\n",
        "cv.fit(df['ReviewClean'])\n",
        "X = cv.transform(df['ReviewClean'])\n",
        "y = df['klasifikasi']"
      ],
      "metadata": {
        "id": "9HHFb_AP55I8"
      },
      "execution_count": null,
      "outputs": []
    },
    {
      "cell_type": "code",
      "source": [
        "#Build Classifier\n",
        "\n",
        "from sklearn.linear_model import LogisticRegression\n",
        "from sklearn.svm import SVC\n",
        "from sklearn.metrics import accuracy_score\n",
        "from sklearn.model_selection import train_test_split\n",
        "\n",
        "X_train, X_test, y_train, y_test = train_test_split(X, y, train_size=0.80)"
      ],
      "metadata": {
        "id": "j35rnrd-6B78"
      },
      "execution_count": null,
      "outputs": []
    },
    {
      "cell_type": "code",
      "source": [
        "#Find the best value of C in logistic regression\n",
        "\n",
        "for c in [0.01, 0.05, 0.25, 0.5, 1]:\n",
        "\n",
        "    lr = LogisticRegression(C=c)\n",
        "    lr.fit(X_train, y_train)\n",
        "    print('Accuracy for C=%s: %s'\n",
        "         % (c, accuracy_score(y_test, lr.predict(X_test))))"
      ],
      "metadata": {
        "id": "TMz_3o8O6Ekq"
      },
      "execution_count": null,
      "outputs": []
    },
    {
      "cell_type": "code",
      "source": [
        "#Find the best value of C in support vector\n",
        "\n",
        "for c in [0.01, 0.05, 0.25, 0.5, 1]:\n",
        "\n",
        "    sv = SVC(C=c)\n",
        "    sv.fit(X_train, y_train)\n",
        "    print('Accuracy for C=%s: %s'\n",
        "         % (c, accuracy_score(y_test, sv.predict(X_test))))"
      ],
      "metadata": {
        "id": "cjoJGIMS6LWQ"
      },
      "execution_count": null,
      "outputs": []
    },
    {
      "cell_type": "code",
      "source": [
        "#Choose C=1 to build the final model for Logistic Regression.\n",
        "final_model_lr = LogisticRegression(C=1)\n",
        "final_model_lr.fit(X, y)\n",
        "print('Akurasi Logistic Regression: %s' %accuracy_score(y_test, final_model_lr.predict(X_test)))"
      ],
      "metadata": {
        "id": "MHTwJECo6MHw"
      },
      "execution_count": null,
      "outputs": []
    },
    {
      "cell_type": "code",
      "source": [
        "#Choose C=1 to build the final model for Support Vector.\n",
        "final_model_sv = SVC(C=1)\n",
        "final_model_sv.fit(X, y)\n",
        "print('Akurasi SVM: %s' %accuracy_score(y_test, final_model_sv.predict(X_test)))"
      ],
      "metadata": {
        "id": "_kCpdWQW6UR2"
      },
      "execution_count": null,
      "outputs": []
    },
    {
      "cell_type": "markdown",
      "source": [
        "#**8. Menyimpan tabel baru yang ada kolom klasifikasi/label sentimen**"
      ],
      "metadata": {
        "id": "4Vu-mBdVmzJQ"
      }
    },
    {
      "cell_type": "code",
      "source": [
        "df.to_csv('labeled_text.csv', encoding='utf8', index=False)\n"
      ],
      "metadata": {
        "id": "Hdrr6tRhm5Tr"
      },
      "execution_count": null,
      "outputs": []
    }
  ]
}